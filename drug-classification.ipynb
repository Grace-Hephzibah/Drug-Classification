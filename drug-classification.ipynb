{
 "cells": [
  {
   "cell_type": "markdown",
   "id": "db5c2fd3",
   "metadata": {
    "papermill": {
     "duration": 0.013521,
     "end_time": "2023-01-01T15:51:26.829484",
     "exception": false,
     "start_time": "2023-01-01T15:51:26.815963",
     "status": "completed"
    },
    "tags": []
   },
   "source": [
    "# Drug Classification\n",
    "This database contains information about certain drug types.\n",
    "\n",
    "The target feature is\n",
    "- Drug type\n",
    "\n",
    "The feature sets are:\n",
    "- Age\n",
    "- Sex\n",
    "- Blood Pressure Levels (BP)\n",
    "- Cholesterol Levels\n",
    "- Na to Potassium Ration\n",
    "\n",
    "Kaggle Link: https://www.kaggle.com/datasets/prathamtripathi/drug-classification/discussion"
   ]
  },
  {
   "cell_type": "markdown",
   "id": "f20dc73a",
   "metadata": {
    "papermill": {
     "duration": 0.014518,
     "end_time": "2023-01-01T15:51:26.858901",
     "exception": false,
     "start_time": "2023-01-01T15:51:26.844383",
     "status": "completed"
    },
    "tags": []
   },
   "source": [
    "# Importing The Libraries"
   ]
  },
  {
   "cell_type": "code",
   "execution_count": 1,
   "id": "8f4e2a02",
   "metadata": {
    "execution": {
     "iopub.execute_input": "2023-01-01T15:51:26.885089Z",
     "iopub.status.busy": "2023-01-01T15:51:26.884586Z",
     "iopub.status.idle": "2023-01-01T15:51:28.438757Z",
     "shell.execute_reply": "2023-01-01T15:51:28.437591Z"
    },
    "papermill": {
     "duration": 1.570378,
     "end_time": "2023-01-01T15:51:28.441666",
     "exception": false,
     "start_time": "2023-01-01T15:51:26.871288",
     "status": "completed"
    },
    "tags": []
   },
   "outputs": [],
   "source": [
    "# Import all the tools we need\n",
    "\n",
    "# Regular EDA (exploratory data analysis) and plotting libraries\n",
    "import numpy as np\n",
    "import pandas as pd\n",
    "import matplotlib.pyplot as plt\n",
    "import seaborn as sns\n",
    "sns.set()\n",
    "\n",
    "# Data Preprocessing \n",
    "from sklearn import preprocessing\n",
    "\n",
    "# Models from Scikit-Learn\n",
    "from sklearn.linear_model import LogisticRegression\n",
    "from sklearn.neighbors import KNeighborsClassifier\n",
    "from sklearn.ensemble import RandomForestClassifier\n",
    "\n",
    "# Model Evaluations\n",
    "from sklearn.feature_selection import f_regression\n",
    "from sklearn.model_selection import train_test_split, cross_val_score\n",
    "from sklearn.model_selection import RandomizedSearchCV, GridSearchCV\n",
    "from sklearn.metrics import confusion_matrix, classification_report\n",
    "from sklearn.metrics import precision_score, recall_score, f1_score\n",
    "from sklearn.metrics import plot_roc_curve\n",
    "\n",
    "# Ignore Warning \n",
    "import warnings\n",
    "warnings.filterwarnings('ignore')"
   ]
  },
  {
   "cell_type": "markdown",
   "id": "a9967ef4",
   "metadata": {
    "papermill": {
     "duration": 0.010453,
     "end_time": "2023-01-01T15:51:28.463028",
     "exception": false,
     "start_time": "2023-01-01T15:51:28.452575",
     "status": "completed"
    },
    "tags": []
   },
   "source": [
    "# Importing The Data "
   ]
  },
  {
   "cell_type": "code",
   "execution_count": 2,
   "id": "746fdcfa",
   "metadata": {
    "execution": {
     "iopub.execute_input": "2023-01-01T15:51:28.486084Z",
     "iopub.status.busy": "2023-01-01T15:51:28.485618Z",
     "iopub.status.idle": "2023-01-01T15:51:28.532804Z",
     "shell.execute_reply": "2023-01-01T15:51:28.531650Z"
    },
    "papermill": {
     "duration": 0.061733,
     "end_time": "2023-01-01T15:51:28.535446",
     "exception": false,
     "start_time": "2023-01-01T15:51:28.473713",
     "status": "completed"
    },
    "tags": []
   },
   "outputs": [
    {
     "data": {
      "text/html": [
       "<div>\n",
       "<style scoped>\n",
       "    .dataframe tbody tr th:only-of-type {\n",
       "        vertical-align: middle;\n",
       "    }\n",
       "\n",
       "    .dataframe tbody tr th {\n",
       "        vertical-align: top;\n",
       "    }\n",
       "\n",
       "    .dataframe thead th {\n",
       "        text-align: right;\n",
       "    }\n",
       "</style>\n",
       "<table border=\"1\" class=\"dataframe\">\n",
       "  <thead>\n",
       "    <tr style=\"text-align: right;\">\n",
       "      <th></th>\n",
       "      <th>Age</th>\n",
       "      <th>Sex</th>\n",
       "      <th>BP</th>\n",
       "      <th>Cholesterol</th>\n",
       "      <th>Na_to_K</th>\n",
       "      <th>Drug</th>\n",
       "    </tr>\n",
       "  </thead>\n",
       "  <tbody>\n",
       "    <tr>\n",
       "      <th>0</th>\n",
       "      <td>23</td>\n",
       "      <td>F</td>\n",
       "      <td>HIGH</td>\n",
       "      <td>HIGH</td>\n",
       "      <td>25.355</td>\n",
       "      <td>DrugY</td>\n",
       "    </tr>\n",
       "    <tr>\n",
       "      <th>1</th>\n",
       "      <td>47</td>\n",
       "      <td>M</td>\n",
       "      <td>LOW</td>\n",
       "      <td>HIGH</td>\n",
       "      <td>13.093</td>\n",
       "      <td>drugC</td>\n",
       "    </tr>\n",
       "    <tr>\n",
       "      <th>2</th>\n",
       "      <td>47</td>\n",
       "      <td>M</td>\n",
       "      <td>LOW</td>\n",
       "      <td>HIGH</td>\n",
       "      <td>10.114</td>\n",
       "      <td>drugC</td>\n",
       "    </tr>\n",
       "    <tr>\n",
       "      <th>3</th>\n",
       "      <td>28</td>\n",
       "      <td>F</td>\n",
       "      <td>NORMAL</td>\n",
       "      <td>HIGH</td>\n",
       "      <td>7.798</td>\n",
       "      <td>drugX</td>\n",
       "    </tr>\n",
       "    <tr>\n",
       "      <th>4</th>\n",
       "      <td>61</td>\n",
       "      <td>F</td>\n",
       "      <td>LOW</td>\n",
       "      <td>HIGH</td>\n",
       "      <td>18.043</td>\n",
       "      <td>DrugY</td>\n",
       "    </tr>\n",
       "  </tbody>\n",
       "</table>\n",
       "</div>"
      ],
      "text/plain": [
       "   Age Sex      BP Cholesterol  Na_to_K   Drug\n",
       "0   23   F    HIGH        HIGH   25.355  DrugY\n",
       "1   47   M     LOW        HIGH   13.093  drugC\n",
       "2   47   M     LOW        HIGH   10.114  drugC\n",
       "3   28   F  NORMAL        HIGH    7.798  drugX\n",
       "4   61   F     LOW        HIGH   18.043  DrugY"
      ]
     },
     "execution_count": 2,
     "metadata": {},
     "output_type": "execute_result"
    }
   ],
   "source": [
    "df = pd.read_csv(\"/kaggle/input/drug-classification/drug200.csv\")\n",
    "df.head()"
   ]
  },
  {
   "cell_type": "markdown",
   "id": "1bceb97c",
   "metadata": {
    "papermill": {
     "duration": 0.011364,
     "end_time": "2023-01-01T15:51:28.558640",
     "exception": false,
     "start_time": "2023-01-01T15:51:28.547276",
     "status": "completed"
    },
    "tags": []
   },
   "source": [
    "# Preprocessing Categorical Columns "
   ]
  },
  {
   "cell_type": "code",
   "execution_count": 3,
   "id": "da82af6c",
   "metadata": {
    "execution": {
     "iopub.execute_input": "2023-01-01T15:51:28.584108Z",
     "iopub.status.busy": "2023-01-01T15:51:28.583637Z",
     "iopub.status.idle": "2023-01-01T15:51:28.597110Z",
     "shell.execute_reply": "2023-01-01T15:51:28.595875Z"
    },
    "papermill": {
     "duration": 0.028889,
     "end_time": "2023-01-01T15:51:28.599394",
     "exception": false,
     "start_time": "2023-01-01T15:51:28.570505",
     "status": "completed"
    },
    "tags": []
   },
   "outputs": [
    {
     "data": {
      "text/plain": [
       "5"
      ]
     },
     "execution_count": 3,
     "metadata": {},
     "output_type": "execute_result"
    }
   ],
   "source": [
    "df['Drug'].nunique()"
   ]
  },
  {
   "cell_type": "code",
   "execution_count": 4,
   "id": "f13de51c",
   "metadata": {
    "execution": {
     "iopub.execute_input": "2023-01-01T15:51:28.625549Z",
     "iopub.status.busy": "2023-01-01T15:51:28.624401Z",
     "iopub.status.idle": "2023-01-01T15:51:28.631806Z",
     "shell.execute_reply": "2023-01-01T15:51:28.631009Z"
    },
    "papermill": {
     "duration": 0.023136,
     "end_time": "2023-01-01T15:51:28.634301",
     "exception": false,
     "start_time": "2023-01-01T15:51:28.611165",
     "status": "completed"
    },
    "tags": []
   },
   "outputs": [
    {
     "data": {
      "text/plain": [
       "array(['DrugY', 'drugC', 'drugX', 'drugA', 'drugB'], dtype=object)"
      ]
     },
     "execution_count": 4,
     "metadata": {},
     "output_type": "execute_result"
    }
   ],
   "source": [
    "df['Drug'].unique()"
   ]
  },
  {
   "cell_type": "code",
   "execution_count": 5,
   "id": "b53f79d7",
   "metadata": {
    "execution": {
     "iopub.execute_input": "2023-01-01T15:51:28.660793Z",
     "iopub.status.busy": "2023-01-01T15:51:28.660412Z",
     "iopub.status.idle": "2023-01-01T15:51:28.667621Z",
     "shell.execute_reply": "2023-01-01T15:51:28.666488Z"
    },
    "papermill": {
     "duration": 0.023115,
     "end_time": "2023-01-01T15:51:28.669993",
     "exception": false,
     "start_time": "2023-01-01T15:51:28.646878",
     "status": "completed"
    },
    "tags": []
   },
   "outputs": [
    {
     "data": {
      "text/plain": [
       "array(['HIGH', 'NORMAL'], dtype=object)"
      ]
     },
     "execution_count": 5,
     "metadata": {},
     "output_type": "execute_result"
    }
   ],
   "source": [
    "df['Cholesterol'].unique()"
   ]
  },
  {
   "cell_type": "code",
   "execution_count": 6,
   "id": "b628a387",
   "metadata": {
    "execution": {
     "iopub.execute_input": "2023-01-01T15:51:28.695717Z",
     "iopub.status.busy": "2023-01-01T15:51:28.695250Z",
     "iopub.status.idle": "2023-01-01T15:51:28.702694Z",
     "shell.execute_reply": "2023-01-01T15:51:28.701516Z"
    },
    "papermill": {
     "duration": 0.022971,
     "end_time": "2023-01-01T15:51:28.705020",
     "exception": false,
     "start_time": "2023-01-01T15:51:28.682049",
     "status": "completed"
    },
    "tags": []
   },
   "outputs": [
    {
     "data": {
      "text/plain": [
       "array(['HIGH', 'LOW', 'NORMAL'], dtype=object)"
      ]
     },
     "execution_count": 6,
     "metadata": {},
     "output_type": "execute_result"
    }
   ],
   "source": [
    "df[\"BP\"].unique()"
   ]
  },
  {
   "cell_type": "code",
   "execution_count": 7,
   "id": "d1cc1883",
   "metadata": {
    "execution": {
     "iopub.execute_input": "2023-01-01T15:51:28.731564Z",
     "iopub.status.busy": "2023-01-01T15:51:28.731172Z",
     "iopub.status.idle": "2023-01-01T15:51:28.738388Z",
     "shell.execute_reply": "2023-01-01T15:51:28.737221Z"
    },
    "papermill": {
     "duration": 0.022966,
     "end_time": "2023-01-01T15:51:28.740619",
     "exception": false,
     "start_time": "2023-01-01T15:51:28.717653",
     "status": "completed"
    },
    "tags": []
   },
   "outputs": [
    {
     "data": {
      "text/plain": [
       "array(['F', 'M'], dtype=object)"
      ]
     },
     "execution_count": 7,
     "metadata": {},
     "output_type": "execute_result"
    }
   ],
   "source": [
    "df['Sex'].unique()"
   ]
  },
  {
   "cell_type": "code",
   "execution_count": 8,
   "id": "aead6bfc",
   "metadata": {
    "execution": {
     "iopub.execute_input": "2023-01-01T15:51:28.766497Z",
     "iopub.status.busy": "2023-01-01T15:51:28.766110Z",
     "iopub.status.idle": "2023-01-01T15:51:28.773964Z",
     "shell.execute_reply": "2023-01-01T15:51:28.773052Z"
    },
    "papermill": {
     "duration": 0.023608,
     "end_time": "2023-01-01T15:51:28.776276",
     "exception": false,
     "start_time": "2023-01-01T15:51:28.752668",
     "status": "completed"
    },
    "tags": []
   },
   "outputs": [],
   "source": [
    "le1 = preprocessing.LabelEncoder()\n",
    "df['Drug']= le1.fit_transform(df['Drug'])\n",
    "df['Cholesterol']= le1.fit_transform(df['Cholesterol'])\n",
    "df['BP']= le1.fit_transform(df['BP'])\n",
    "df['Sex']= le1.fit_transform(df['Sex'])"
   ]
  },
  {
   "cell_type": "code",
   "execution_count": 9,
   "id": "8b1bf308",
   "metadata": {
    "execution": {
     "iopub.execute_input": "2023-01-01T15:51:28.803537Z",
     "iopub.status.busy": "2023-01-01T15:51:28.803166Z",
     "iopub.status.idle": "2023-01-01T15:51:28.814570Z",
     "shell.execute_reply": "2023-01-01T15:51:28.813790Z"
    },
    "papermill": {
     "duration": 0.027523,
     "end_time": "2023-01-01T15:51:28.816658",
     "exception": false,
     "start_time": "2023-01-01T15:51:28.789135",
     "status": "completed"
    },
    "tags": []
   },
   "outputs": [
    {
     "data": {
      "text/html": [
       "<div>\n",
       "<style scoped>\n",
       "    .dataframe tbody tr th:only-of-type {\n",
       "        vertical-align: middle;\n",
       "    }\n",
       "\n",
       "    .dataframe tbody tr th {\n",
       "        vertical-align: top;\n",
       "    }\n",
       "\n",
       "    .dataframe thead th {\n",
       "        text-align: right;\n",
       "    }\n",
       "</style>\n",
       "<table border=\"1\" class=\"dataframe\">\n",
       "  <thead>\n",
       "    <tr style=\"text-align: right;\">\n",
       "      <th></th>\n",
       "      <th>Age</th>\n",
       "      <th>Sex</th>\n",
       "      <th>BP</th>\n",
       "      <th>Cholesterol</th>\n",
       "      <th>Na_to_K</th>\n",
       "      <th>Drug</th>\n",
       "    </tr>\n",
       "  </thead>\n",
       "  <tbody>\n",
       "    <tr>\n",
       "      <th>0</th>\n",
       "      <td>23</td>\n",
       "      <td>0</td>\n",
       "      <td>0</td>\n",
       "      <td>0</td>\n",
       "      <td>25.355</td>\n",
       "      <td>0</td>\n",
       "    </tr>\n",
       "    <tr>\n",
       "      <th>1</th>\n",
       "      <td>47</td>\n",
       "      <td>1</td>\n",
       "      <td>1</td>\n",
       "      <td>0</td>\n",
       "      <td>13.093</td>\n",
       "      <td>3</td>\n",
       "    </tr>\n",
       "    <tr>\n",
       "      <th>2</th>\n",
       "      <td>47</td>\n",
       "      <td>1</td>\n",
       "      <td>1</td>\n",
       "      <td>0</td>\n",
       "      <td>10.114</td>\n",
       "      <td>3</td>\n",
       "    </tr>\n",
       "    <tr>\n",
       "      <th>3</th>\n",
       "      <td>28</td>\n",
       "      <td>0</td>\n",
       "      <td>2</td>\n",
       "      <td>0</td>\n",
       "      <td>7.798</td>\n",
       "      <td>4</td>\n",
       "    </tr>\n",
       "    <tr>\n",
       "      <th>4</th>\n",
       "      <td>61</td>\n",
       "      <td>0</td>\n",
       "      <td>1</td>\n",
       "      <td>0</td>\n",
       "      <td>18.043</td>\n",
       "      <td>0</td>\n",
       "    </tr>\n",
       "  </tbody>\n",
       "</table>\n",
       "</div>"
      ],
      "text/plain": [
       "   Age  Sex  BP  Cholesterol  Na_to_K  Drug\n",
       "0   23    0   0            0   25.355     0\n",
       "1   47    1   1            0   13.093     3\n",
       "2   47    1   1            0   10.114     3\n",
       "3   28    0   2            0    7.798     4\n",
       "4   61    0   1            0   18.043     0"
      ]
     },
     "execution_count": 9,
     "metadata": {},
     "output_type": "execute_result"
    }
   ],
   "source": [
    "df.head()"
   ]
  },
  {
   "cell_type": "code",
   "execution_count": 10,
   "id": "d46b6036",
   "metadata": {
    "execution": {
     "iopub.execute_input": "2023-01-01T15:51:28.845179Z",
     "iopub.status.busy": "2023-01-01T15:51:28.844690Z",
     "iopub.status.idle": "2023-01-01T15:51:28.851499Z",
     "shell.execute_reply": "2023-01-01T15:51:28.850394Z"
    },
    "papermill": {
     "duration": 0.023894,
     "end_time": "2023-01-01T15:51:28.853714",
     "exception": false,
     "start_time": "2023-01-01T15:51:28.829820",
     "status": "completed"
    },
    "tags": []
   },
   "outputs": [
    {
     "data": {
      "text/plain": [
       "200"
      ]
     },
     "execution_count": 10,
     "metadata": {},
     "output_type": "execute_result"
    }
   ],
   "source": [
    "len(df)"
   ]
  },
  {
   "cell_type": "markdown",
   "id": "5ef00ce7",
   "metadata": {
    "papermill": {
     "duration": 0.012537,
     "end_time": "2023-01-01T15:51:28.879345",
     "exception": false,
     "start_time": "2023-01-01T15:51:28.866808",
     "status": "completed"
    },
    "tags": []
   },
   "source": [
    "# Exploring The Data "
   ]
  },
  {
   "cell_type": "markdown",
   "id": "c66298e7",
   "metadata": {
    "papermill": {
     "duration": 0.012017,
     "end_time": "2023-01-01T15:51:28.904168",
     "exception": false,
     "start_time": "2023-01-01T15:51:28.892151",
     "status": "completed"
    },
    "tags": []
   },
   "source": [
    "# Inference 1: \n",
    "I think that Drug 0 has higher usage than the rest... \n",
    "\n",
    "Possible Reasons:\n",
    "- Data is biased in the dataset \n",
    "- Drug 0 is widely available or most effective or has less side effect or other medical reasons.\n",
    "\n",
    "This cannot be cleared for now as we need medical professionals to handle this and to give more insights about the other drugs. "
   ]
  },
  {
   "cell_type": "code",
   "execution_count": 11,
   "id": "efe0dcdc",
   "metadata": {
    "execution": {
     "iopub.execute_input": "2023-01-01T15:51:28.930686Z",
     "iopub.status.busy": "2023-01-01T15:51:28.930270Z",
     "iopub.status.idle": "2023-01-01T15:51:29.145705Z",
     "shell.execute_reply": "2023-01-01T15:51:29.144839Z"
    },
    "papermill": {
     "duration": 0.232869,
     "end_time": "2023-01-01T15:51:29.149387",
     "exception": false,
     "start_time": "2023-01-01T15:51:28.916518",
     "status": "completed"
    },
    "tags": []
   },
   "outputs": [
    {
     "data": {
      "image/png": "[encoded data removed]",
      "text/plain": [
       "<Figure size 432x288 with 1 Axes>"
      ]
     },
     "metadata": {},
     "output_type": "display_data"
    }
   ],
   "source": [
    "df[\"Drug\"].value_counts().plot(kind=\"bar\");"
   ]
  },
  {
   "cell_type": "markdown",
   "id": "68c3033b",
   "metadata": {
    "papermill": {
     "duration": 0.012404,
     "end_time": "2023-01-01T15:51:29.175991",
     "exception": false,
     "start_time": "2023-01-01T15:51:29.163587",
     "status": "completed"
    },
    "tags": []
   },
   "source": [
    "# Inference 2: \n",
    "Data Distribution over high and normal cholesterol levels are similar. That's good!"
   ]
  },
  {
   "cell_type": "code",
   "execution_count": 12,
   "id": "3c54139b",
   "metadata": {
    "execution": {
     "iopub.execute_input": "2023-01-01T15:51:29.203552Z",
     "iopub.status.busy": "2023-01-01T15:51:29.202420Z",
     "iopub.status.idle": "2023-01-01T15:51:29.342973Z",
     "shell.execute_reply": "2023-01-01T15:51:29.341465Z"
    },
    "papermill": {
     "duration": 0.158428,
     "end_time": "2023-01-01T15:51:29.347032",
     "exception": false,
     "start_time": "2023-01-01T15:51:29.188604",
     "status": "completed"
    },
    "tags": []
   },
   "outputs": [
    {
     "data": {
      "image/png": "[encoded data removed]",
      "text/plain": [
       "<Figure size 432x288 with 1 Axes>"
      ]
     },
     "metadata": {},
     "output_type": "display_data"
    }
   ],
   "source": [
    "df[\"Cholesterol\"].value_counts().plot(kind=\"bar\");"
   ]
  },
  {
   "cell_type": "markdown",
   "id": "578d5842",
   "metadata": {
    "papermill": {
     "duration": 0.012568,
     "end_time": "2023-01-01T15:51:29.375230",
     "exception": false,
     "start_time": "2023-01-01T15:51:29.362662",
     "status": "completed"
    },
    "tags": []
   },
   "source": [
    "# Inference 3: \n",
    "Data Distribution over the feature BP is also similar. "
   ]
  },
  {
   "cell_type": "code",
   "execution_count": 13,
   "id": "e8913058",
   "metadata": {
    "execution": {
     "iopub.execute_input": "2023-01-01T15:51:29.403272Z",
     "iopub.status.busy": "2023-01-01T15:51:29.402083Z",
     "iopub.status.idle": "2023-01-01T15:51:29.616738Z",
     "shell.execute_reply": "2023-01-01T15:51:29.615949Z"
    },
    "papermill": {
     "duration": 0.231162,
     "end_time": "2023-01-01T15:51:29.619151",
     "exception": false,
     "start_time": "2023-01-01T15:51:29.387989",
     "status": "completed"
    },
    "tags": []
   },
   "outputs": [
    {
     "data": {
      "image/png": "[encoded data removed]",
      "text/plain": [
       "<Figure size 432x288 with 1 Axes>"
      ]
     },
     "metadata": {},
     "output_type": "display_data"
    }
   ],
   "source": [
    "df[\"BP\"].value_counts().plot(kind=\"bar\");"
   ]
  },
  {
   "cell_type": "markdown",
   "id": "b90f826d",
   "metadata": {
    "papermill": {
     "duration": 0.014422,
     "end_time": "2023-01-01T15:51:29.648427",
     "exception": false,
     "start_time": "2023-01-01T15:51:29.634005",
     "status": "completed"
    },
    "tags": []
   },
   "source": [
    "# Inference 4: \n",
    "Data distribution over the sex feature is also similar. "
   ]
  },
  {
   "cell_type": "code",
   "execution_count": 14,
   "id": "7f1e8f9e",
   "metadata": {
    "execution": {
     "iopub.execute_input": "2023-01-01T15:51:29.679996Z",
     "iopub.status.busy": "2023-01-01T15:51:29.679551Z",
     "iopub.status.idle": "2023-01-01T15:51:29.878661Z",
     "shell.execute_reply": "2023-01-01T15:51:29.877140Z"
    },
    "papermill": {
     "duration": 0.218308,
     "end_time": "2023-01-01T15:51:29.881545",
     "exception": false,
     "start_time": "2023-01-01T15:51:29.663237",
     "status": "completed"
    },
    "tags": []
   },
   "outputs": [
    {
     "data": {
      "image/png": "[encoded data removed]",
      "text/plain": [
       "<Figure size 432x288 with 1 Axes>"
      ]
     },
     "metadata": {},
     "output_type": "display_data"
    }
   ],
   "source": [
    "df[\"Sex\"].value_counts().plot(kind=\"bar\");"
   ]
  },
  {
   "cell_type": "code",
   "execution_count": 15,
   "id": "9b09decd",
   "metadata": {
    "execution": {
     "iopub.execute_input": "2023-01-01T15:51:29.912106Z",
     "iopub.status.busy": "2023-01-01T15:51:29.911664Z",
     "iopub.status.idle": "2023-01-01T15:51:29.929872Z",
     "shell.execute_reply": "2023-01-01T15:51:29.928330Z"
    },
    "papermill": {
     "duration": 0.036064,
     "end_time": "2023-01-01T15:51:29.932240",
     "exception": false,
     "start_time": "2023-01-01T15:51:29.896176",
     "status": "completed"
    },
    "tags": []
   },
   "outputs": [
    {
     "name": "stdout",
     "output_type": "stream",
     "text": [
      "<class 'pandas.core.frame.DataFrame'>\n",
      "RangeIndex: 200 entries, 0 to 199\n",
      "Data columns (total 6 columns):\n",
      " #   Column       Non-Null Count  Dtype  \n",
      "---  ------       --------------  -----  \n",
      " 0   Age          200 non-null    int64  \n",
      " 1   Sex          200 non-null    int64  \n",
      " 2   BP           200 non-null    int64  \n",
      " 3   Cholesterol  200 non-null    int64  \n",
      " 4   Na_to_K      200 non-null    float64\n",
      " 5   Drug         200 non-null    int64  \n",
      "dtypes: float64(1), int64(5)\n",
      "memory usage: 9.5 KB\n"
     ]
    }
   ],
   "source": [
    "# Data columns\n",
    "df.info()"
   ]
  },
  {
   "cell_type": "code",
   "execution_count": 16,
   "id": "f43cb7ce",
   "metadata": {
    "execution": {
     "iopub.execute_input": "2023-01-01T15:51:29.963822Z",
     "iopub.status.busy": "2023-01-01T15:51:29.962753Z",
     "iopub.status.idle": "2023-01-01T15:51:29.973517Z",
     "shell.execute_reply": "2023-01-01T15:51:29.972415Z"
    },
    "papermill": {
     "duration": 0.029395,
     "end_time": "2023-01-01T15:51:29.975849",
     "exception": false,
     "start_time": "2023-01-01T15:51:29.946454",
     "status": "completed"
    },
    "tags": []
   },
   "outputs": [
    {
     "data": {
      "text/plain": [
       "Age            0\n",
       "Sex            0\n",
       "BP             0\n",
       "Cholesterol    0\n",
       "Na_to_K        0\n",
       "Drug           0\n",
       "dtype: int64"
      ]
     },
     "execution_count": 16,
     "metadata": {},
     "output_type": "execute_result"
    }
   ],
   "source": [
    "# Are there any missing values?\n",
    "df.isna().sum()\n",
    "# There are none!"
   ]
  },
  {
   "cell_type": "code",
   "execution_count": 17,
   "id": "2c549999",
   "metadata": {
    "execution": {
     "iopub.execute_input": "2023-01-01T15:51:30.005854Z",
     "iopub.status.busy": "2023-01-01T15:51:30.005438Z",
     "iopub.status.idle": "2023-01-01T15:51:30.038419Z",
     "shell.execute_reply": "2023-01-01T15:51:30.037186Z"
    },
    "papermill": {
     "duration": 0.050913,
     "end_time": "2023-01-01T15:51:30.040756",
     "exception": false,
     "start_time": "2023-01-01T15:51:29.989843",
     "status": "completed"
    },
    "tags": []
   },
   "outputs": [
    {
     "data": {
      "text/html": [
       "<div>\n",
       "<style scoped>\n",
       "    .dataframe tbody tr th:only-of-type {\n",
       "        vertical-align: middle;\n",
       "    }\n",
       "\n",
       "    .dataframe tbody tr th {\n",
       "        vertical-align: top;\n",
       "    }\n",
       "\n",
       "    .dataframe thead th {\n",
       "        text-align: right;\n",
       "    }\n",
       "</style>\n",
       "<table border=\"1\" class=\"dataframe\">\n",
       "  <thead>\n",
       "    <tr style=\"text-align: right;\">\n",
       "      <th></th>\n",
       "      <th>Age</th>\n",
       "      <th>Sex</th>\n",
       "      <th>BP</th>\n",
       "      <th>Cholesterol</th>\n",
       "      <th>Na_to_K</th>\n",
       "      <th>Drug</th>\n",
       "    </tr>\n",
       "  </thead>\n",
       "  <tbody>\n",
       "    <tr>\n",
       "      <th>count</th>\n",
       "      <td>200.000000</td>\n",
       "      <td>200.000000</td>\n",
       "      <td>200.000000</td>\n",
       "      <td>200.000000</td>\n",
       "      <td>200.000000</td>\n",
       "      <td>200.000000</td>\n",
       "    </tr>\n",
       "    <tr>\n",
       "      <th>mean</th>\n",
       "      <td>44.315000</td>\n",
       "      <td>0.520000</td>\n",
       "      <td>0.910000</td>\n",
       "      <td>0.485000</td>\n",
       "      <td>16.084485</td>\n",
       "      <td>1.595000</td>\n",
       "    </tr>\n",
       "    <tr>\n",
       "      <th>std</th>\n",
       "      <td>16.544315</td>\n",
       "      <td>0.500854</td>\n",
       "      <td>0.821752</td>\n",
       "      <td>0.501029</td>\n",
       "      <td>7.223956</td>\n",
       "      <td>1.716305</td>\n",
       "    </tr>\n",
       "    <tr>\n",
       "      <th>min</th>\n",
       "      <td>15.000000</td>\n",
       "      <td>0.000000</td>\n",
       "      <td>0.000000</td>\n",
       "      <td>0.000000</td>\n",
       "      <td>6.269000</td>\n",
       "      <td>0.000000</td>\n",
       "    </tr>\n",
       "    <tr>\n",
       "      <th>25%</th>\n",
       "      <td>31.000000</td>\n",
       "      <td>0.000000</td>\n",
       "      <td>0.000000</td>\n",
       "      <td>0.000000</td>\n",
       "      <td>10.445500</td>\n",
       "      <td>0.000000</td>\n",
       "    </tr>\n",
       "    <tr>\n",
       "      <th>50%</th>\n",
       "      <td>45.000000</td>\n",
       "      <td>1.000000</td>\n",
       "      <td>1.000000</td>\n",
       "      <td>0.000000</td>\n",
       "      <td>13.936500</td>\n",
       "      <td>1.000000</td>\n",
       "    </tr>\n",
       "    <tr>\n",
       "      <th>75%</th>\n",
       "      <td>58.000000</td>\n",
       "      <td>1.000000</td>\n",
       "      <td>2.000000</td>\n",
       "      <td>1.000000</td>\n",
       "      <td>19.380000</td>\n",
       "      <td>4.000000</td>\n",
       "    </tr>\n",
       "    <tr>\n",
       "      <th>max</th>\n",
       "      <td>74.000000</td>\n",
       "      <td>1.000000</td>\n",
       "      <td>2.000000</td>\n",
       "      <td>1.000000</td>\n",
       "      <td>38.247000</td>\n",
       "      <td>4.000000</td>\n",
       "    </tr>\n",
       "  </tbody>\n",
       "</table>\n",
       "</div>"
      ],
      "text/plain": [
       "              Age         Sex          BP  Cholesterol     Na_to_K        Drug\n",
       "count  200.000000  200.000000  200.000000   200.000000  200.000000  200.000000\n",
       "mean    44.315000    0.520000    0.910000     0.485000   16.084485    1.595000\n",
       "std     16.544315    0.500854    0.821752     0.501029    7.223956    1.716305\n",
       "min     15.000000    0.000000    0.000000     0.000000    6.269000    0.000000\n",
       "25%     31.000000    0.000000    0.000000     0.000000   10.445500    0.000000\n",
       "50%     45.000000    1.000000    1.000000     0.000000   13.936500    1.000000\n",
       "75%     58.000000    1.000000    2.000000     1.000000   19.380000    4.000000\n",
       "max     74.000000    1.000000    2.000000     1.000000   38.247000    4.000000"
      ]
     },
     "execution_count": 17,
     "metadata": {},
     "output_type": "execute_result"
    }
   ],
   "source": [
    "df.describe()"
   ]
  },
  {
   "cell_type": "markdown",
   "id": "712532be",
   "metadata": {
    "papermill": {
     "duration": 0.01389,
     "end_time": "2023-01-01T15:51:30.069056",
     "exception": false,
     "start_time": "2023-01-01T15:51:30.055166",
     "status": "completed"
    },
    "tags": []
   },
   "source": [
    "# Deeper Exploration "
   ]
  },
  {
   "cell_type": "markdown",
   "id": "9e421411",
   "metadata": {
    "papermill": {
     "duration": 0.013942,
     "end_time": "2023-01-01T15:51:30.097010",
     "exception": false,
     "start_time": "2023-01-01T15:51:30.083068",
     "status": "completed"
    },
    "tags": []
   },
   "source": [
    "# 1. Drug Vs Sex"
   ]
  },
  {
   "cell_type": "code",
   "execution_count": 18,
   "id": "3421e023",
   "metadata": {
    "execution": {
     "iopub.execute_input": "2023-01-01T15:51:30.127702Z",
     "iopub.status.busy": "2023-01-01T15:51:30.126456Z",
     "iopub.status.idle": "2023-01-01T15:51:30.155557Z",
     "shell.execute_reply": "2023-01-01T15:51:30.154357Z"
    },
    "papermill": {
     "duration": 0.04692,
     "end_time": "2023-01-01T15:51:30.157920",
     "exception": false,
     "start_time": "2023-01-01T15:51:30.111000",
     "status": "completed"
    },
    "tags": []
   },
   "outputs": [
    {
     "data": {
      "text/html": [
       "<div>\n",
       "<style scoped>\n",
       "    .dataframe tbody tr th:only-of-type {\n",
       "        vertical-align: middle;\n",
       "    }\n",
       "\n",
       "    .dataframe tbody tr th {\n",
       "        vertical-align: top;\n",
       "    }\n",
       "\n",
       "    .dataframe thead th {\n",
       "        text-align: right;\n",
       "    }\n",
       "</style>\n",
       "<table border=\"1\" class=\"dataframe\">\n",
       "  <thead>\n",
       "    <tr style=\"text-align: right;\">\n",
       "      <th>Sex</th>\n",
       "      <th>0</th>\n",
       "      <th>1</th>\n",
       "    </tr>\n",
       "    <tr>\n",
       "      <th>Drug</th>\n",
       "      <th></th>\n",
       "      <th></th>\n",
       "    </tr>\n",
       "  </thead>\n",
       "  <tbody>\n",
       "    <tr>\n",
       "      <th>0</th>\n",
       "      <td>47</td>\n",
       "      <td>44</td>\n",
       "    </tr>\n",
       "    <tr>\n",
       "      <th>1</th>\n",
       "      <td>9</td>\n",
       "      <td>14</td>\n",
       "    </tr>\n",
       "    <tr>\n",
       "      <th>2</th>\n",
       "      <td>6</td>\n",
       "      <td>10</td>\n",
       "    </tr>\n",
       "    <tr>\n",
       "      <th>3</th>\n",
       "      <td>7</td>\n",
       "      <td>9</td>\n",
       "    </tr>\n",
       "    <tr>\n",
       "      <th>4</th>\n",
       "      <td>27</td>\n",
       "      <td>27</td>\n",
       "    </tr>\n",
       "  </tbody>\n",
       "</table>\n",
       "</div>"
      ],
      "text/plain": [
       "Sex    0   1\n",
       "Drug        \n",
       "0     47  44\n",
       "1      9  14\n",
       "2      6  10\n",
       "3      7   9\n",
       "4     27  27"
      ]
     },
     "execution_count": 18,
     "metadata": {},
     "output_type": "execute_result"
    }
   ],
   "source": [
    "pd.crosstab(df[\"Drug\"], df[\"Sex\"])"
   ]
  },
  {
   "cell_type": "code",
   "execution_count": 19,
   "id": "cab0bfe8",
   "metadata": {
    "execution": {
     "iopub.execute_input": "2023-01-01T15:51:30.189248Z",
     "iopub.status.busy": "2023-01-01T15:51:30.188798Z",
     "iopub.status.idle": "2023-01-01T15:51:30.494398Z",
     "shell.execute_reply": "2023-01-01T15:51:30.493018Z"
    },
    "papermill": {
     "duration": 0.32448,
     "end_time": "2023-01-01T15:51:30.497100",
     "exception": false,
     "start_time": "2023-01-01T15:51:30.172620",
     "status": "completed"
    },
    "tags": []
   },
   "outputs": [
    {
     "data": {
      "image/png": "[encoded data removed]",
      "text/plain": [
       "<Figure size 720x432 with 1 Axes>"
      ]
     },
     "metadata": {},
     "output_type": "display_data"
    }
   ],
   "source": [
    "pd.crosstab(df[\"Drug\"], df[\"Sex\"]).plot(kind=\"bar\",\n",
    "                                   figsize=(10, 6))\n",
    "plt.title(\"Drug vs Sex\")\n",
    "plt.xlabel(\"Drug Type\")\n",
    "plt.ylabel(\"Sex\")\n",
    "plt.xticks(rotation=0);"
   ]
  },
  {
   "cell_type": "markdown",
   "id": "09158ac0",
   "metadata": {
    "papermill": {
     "duration": 0.014154,
     "end_time": "2023-01-01T15:51:30.526050",
     "exception": false,
     "start_time": "2023-01-01T15:51:30.511896",
     "status": "completed"
    },
    "tags": []
   },
   "source": [
    "## Inference: \n",
    "- Drug 0 is not only the higgest usage, but it is also has it's distribution equal among male and female. \n",
    "- And the other drugs are also almost equally distributed among the genders male and female. "
   ]
  },
  {
   "cell_type": "markdown",
   "id": "b6d76faf",
   "metadata": {
    "papermill": {
     "duration": 0.014264,
     "end_time": "2023-01-01T15:51:30.554830",
     "exception": false,
     "start_time": "2023-01-01T15:51:30.540566",
     "status": "completed"
    },
    "tags": []
   },
   "source": [
    "# 2. Drug Vs BP"
   ]
  },
  {
   "cell_type": "code",
   "execution_count": 20,
   "id": "32156bab",
   "metadata": {
    "execution": {
     "iopub.execute_input": "2023-01-01T15:51:30.585943Z",
     "iopub.status.busy": "2023-01-01T15:51:30.585544Z",
     "iopub.status.idle": "2023-01-01T15:51:30.607952Z",
     "shell.execute_reply": "2023-01-01T15:51:30.606651Z"
    },
    "papermill": {
     "duration": 0.040977,
     "end_time": "2023-01-01T15:51:30.610400",
     "exception": false,
     "start_time": "2023-01-01T15:51:30.569423",
     "status": "completed"
    },
    "tags": []
   },
   "outputs": [
    {
     "data": {
      "text/html": [
       "<div>\n",
       "<style scoped>\n",
       "    .dataframe tbody tr th:only-of-type {\n",
       "        vertical-align: middle;\n",
       "    }\n",
       "\n",
       "    .dataframe tbody tr th {\n",
       "        vertical-align: top;\n",
       "    }\n",
       "\n",
       "    .dataframe thead th {\n",
       "        text-align: right;\n",
       "    }\n",
       "</style>\n",
       "<table border=\"1\" class=\"dataframe\">\n",
       "  <thead>\n",
       "    <tr style=\"text-align: right;\">\n",
       "      <th>BP</th>\n",
       "      <th>0</th>\n",
       "      <th>1</th>\n",
       "      <th>2</th>\n",
       "    </tr>\n",
       "    <tr>\n",
       "      <th>Drug</th>\n",
       "      <th></th>\n",
       "      <th></th>\n",
       "      <th></th>\n",
       "    </tr>\n",
       "  </thead>\n",
       "  <tbody>\n",
       "    <tr>\n",
       "      <th>0</th>\n",
       "      <td>38</td>\n",
       "      <td>30</td>\n",
       "      <td>23</td>\n",
       "    </tr>\n",
       "    <tr>\n",
       "      <th>1</th>\n",
       "      <td>23</td>\n",
       "      <td>0</td>\n",
       "      <td>0</td>\n",
       "    </tr>\n",
       "    <tr>\n",
       "      <th>2</th>\n",
       "      <td>16</td>\n",
       "      <td>0</td>\n",
       "      <td>0</td>\n",
       "    </tr>\n",
       "    <tr>\n",
       "      <th>3</th>\n",
       "      <td>0</td>\n",
       "      <td>16</td>\n",
       "      <td>0</td>\n",
       "    </tr>\n",
       "    <tr>\n",
       "      <th>4</th>\n",
       "      <td>0</td>\n",
       "      <td>18</td>\n",
       "      <td>36</td>\n",
       "    </tr>\n",
       "  </tbody>\n",
       "</table>\n",
       "</div>"
      ],
      "text/plain": [
       "BP     0   1   2\n",
       "Drug            \n",
       "0     38  30  23\n",
       "1     23   0   0\n",
       "2     16   0   0\n",
       "3      0  16   0\n",
       "4      0  18  36"
      ]
     },
     "execution_count": 20,
     "metadata": {},
     "output_type": "execute_result"
    }
   ],
   "source": [
    "pd.crosstab(df[\"Drug\"], df[\"BP\"])"
   ]
  },
  {
   "cell_type": "code",
   "execution_count": 21,
   "id": "4d2c428a",
   "metadata": {
    "execution": {
     "iopub.execute_input": "2023-01-01T15:51:30.644824Z",
     "iopub.status.busy": "2023-01-01T15:51:30.644425Z",
     "iopub.status.idle": "2023-01-01T15:51:30.983791Z",
     "shell.execute_reply": "2023-01-01T15:51:30.982595Z"
    },
    "papermill": {
     "duration": 0.359196,
     "end_time": "2023-01-01T15:51:30.986214",
     "exception": false,
     "start_time": "2023-01-01T15:51:30.627018",
     "status": "completed"
    },
    "tags": []
   },
   "outputs": [
    {
     "data": {
      "image/png": "[encoded data removed]",
      "text/plain": [
       "<Figure size 720x432 with 1 Axes>"
      ]
     },
     "metadata": {},
     "output_type": "display_data"
    }
   ],
   "source": [
    "# Compare bp column with sex column\n",
    "pd.crosstab(df[\"Drug\"], df[\"BP\"]).plot(kind=\"bar\",\n",
    "                                   figsize=(10, 6))\n",
    "plt.title(\"Drug vs BP\")\n",
    "plt.xlabel(\"Drug Type\")\n",
    "plt.ylabel(\"BP\")\n",
    "plt.xticks(rotation=0);"
   ]
  },
  {
   "cell_type": "markdown",
   "id": "219439ba",
   "metadata": {
    "papermill": {
     "duration": 0.015117,
     "end_time": "2023-01-01T15:51:31.017204",
     "exception": false,
     "start_time": "2023-01-01T15:51:31.002087",
     "status": "completed"
    },
    "tags": []
   },
   "source": [
    "## Inference: \n",
    "There is a high bias of medicines. Again this could be of 2 reasons. (Less data or medical reasons)\n",
    "\n",
    "- BP Type 0 -> Drug 0,1,2\n",
    "- BP Type 1 -> Drug 0,3,4\n",
    "- BP Type 3 -> Drug 0,4\n",
    "\n",
    "This can help in manual classification. But nevertheless, BP is a highly important feature..."
   ]
  },
  {
   "cell_type": "markdown",
   "id": "de4412ad",
   "metadata": {
    "papermill": {
     "duration": 0.014639,
     "end_time": "2023-01-01T15:51:31.046888",
     "exception": false,
     "start_time": "2023-01-01T15:51:31.032249",
     "status": "completed"
    },
    "tags": []
   },
   "source": [
    "# 3. Drug Vs Cholesterol"
   ]
  },
  {
   "cell_type": "code",
   "execution_count": 22,
   "id": "10ed862f",
   "metadata": {
    "execution": {
     "iopub.execute_input": "2023-01-01T15:51:31.079243Z",
     "iopub.status.busy": "2023-01-01T15:51:31.078822Z",
     "iopub.status.idle": "2023-01-01T15:51:31.099352Z",
     "shell.execute_reply": "2023-01-01T15:51:31.098242Z"
    },
    "papermill": {
     "duration": 0.039793,
     "end_time": "2023-01-01T15:51:31.101823",
     "exception": false,
     "start_time": "2023-01-01T15:51:31.062030",
     "status": "completed"
    },
    "tags": []
   },
   "outputs": [
    {
     "data": {
      "text/html": [
       "<div>\n",
       "<style scoped>\n",
       "    .dataframe tbody tr th:only-of-type {\n",
       "        vertical-align: middle;\n",
       "    }\n",
       "\n",
       "    .dataframe tbody tr th {\n",
       "        vertical-align: top;\n",
       "    }\n",
       "\n",
       "    .dataframe thead th {\n",
       "        text-align: right;\n",
       "    }\n",
       "</style>\n",
       "<table border=\"1\" class=\"dataframe\">\n",
       "  <thead>\n",
       "    <tr style=\"text-align: right;\">\n",
       "      <th>Cholesterol</th>\n",
       "      <th>0</th>\n",
       "      <th>1</th>\n",
       "    </tr>\n",
       "    <tr>\n",
       "      <th>Drug</th>\n",
       "      <th></th>\n",
       "      <th></th>\n",
       "    </tr>\n",
       "  </thead>\n",
       "  <tbody>\n",
       "    <tr>\n",
       "      <th>0</th>\n",
       "      <td>47</td>\n",
       "      <td>44</td>\n",
       "    </tr>\n",
       "    <tr>\n",
       "      <th>1</th>\n",
       "      <td>12</td>\n",
       "      <td>11</td>\n",
       "    </tr>\n",
       "    <tr>\n",
       "      <th>2</th>\n",
       "      <td>8</td>\n",
       "      <td>8</td>\n",
       "    </tr>\n",
       "    <tr>\n",
       "      <th>3</th>\n",
       "      <td>16</td>\n",
       "      <td>0</td>\n",
       "    </tr>\n",
       "    <tr>\n",
       "      <th>4</th>\n",
       "      <td>20</td>\n",
       "      <td>34</td>\n",
       "    </tr>\n",
       "  </tbody>\n",
       "</table>\n",
       "</div>"
      ],
      "text/plain": [
       "Cholesterol   0   1\n",
       "Drug               \n",
       "0            47  44\n",
       "1            12  11\n",
       "2             8   8\n",
       "3            16   0\n",
       "4            20  34"
      ]
     },
     "execution_count": 22,
     "metadata": {},
     "output_type": "execute_result"
    }
   ],
   "source": [
    "pd.crosstab(df[\"Drug\"], df[\"Cholesterol\"])"
   ]
  },
  {
   "cell_type": "code",
   "execution_count": 23,
   "id": "6cc35aeb",
   "metadata": {
    "execution": {
     "iopub.execute_input": "2023-01-01T15:51:31.134356Z",
     "iopub.status.busy": "2023-01-01T15:51:31.133923Z",
     "iopub.status.idle": "2023-01-01T15:51:31.422223Z",
     "shell.execute_reply": "2023-01-01T15:51:31.420997Z"
    },
    "papermill": {
     "duration": 0.307622,
     "end_time": "2023-01-01T15:51:31.424848",
     "exception": false,
     "start_time": "2023-01-01T15:51:31.117226",
     "status": "completed"
    },
    "tags": []
   },
   "outputs": [
    {
     "data": {
      "image/png": "[encoded data removed]",
      "text/plain": [
       "<Figure size 720x432 with 1 Axes>"
      ]
     },
     "metadata": {},
     "output_type": "display_data"
    }
   ],
   "source": [
    "# Compare cholesterol column with sex column\n",
    "pd.crosstab(df[\"Drug\"], df[\"Cholesterol\"]).plot(kind=\"bar\",\n",
    "                                   figsize=(10, 6))\n",
    "plt.title(\"Drug vs Cholesterol\")\n",
    "plt.xlabel(\"Drug Type\")\n",
    "plt.ylabel(\"Cholesterol\")\n",
    "plt.xticks(rotation=0);"
   ]
  },
  {
   "cell_type": "markdown",
   "id": "1d214a26",
   "metadata": {
    "papermill": {
     "duration": 0.016476,
     "end_time": "2023-01-01T15:51:31.458260",
     "exception": false,
     "start_time": "2023-01-01T15:51:31.441784",
     "status": "completed"
    },
    "tags": []
   },
   "source": [
    "## Inference:\n",
    "Simple yet unique.\n",
    "- Cholesterol Type 1 cannot have Drug Type 3"
   ]
  },
  {
   "cell_type": "markdown",
   "id": "81912ac9",
   "metadata": {
    "papermill": {
     "duration": 0.016292,
     "end_time": "2023-01-01T15:51:31.491156",
     "exception": false,
     "start_time": "2023-01-01T15:51:31.474864",
     "status": "completed"
    },
    "tags": []
   },
   "source": [
    "# 4. Other Crosstabs"
   ]
  },
  {
   "cell_type": "code",
   "execution_count": 24,
   "id": "6ac0f8ca",
   "metadata": {
    "execution": {
     "iopub.execute_input": "2023-01-01T15:51:31.526342Z",
     "iopub.status.busy": "2023-01-01T15:51:31.525899Z",
     "iopub.status.idle": "2023-01-01T15:51:31.547490Z",
     "shell.execute_reply": "2023-01-01T15:51:31.546092Z"
    },
    "papermill": {
     "duration": 0.042091,
     "end_time": "2023-01-01T15:51:31.549993",
     "exception": false,
     "start_time": "2023-01-01T15:51:31.507902",
     "status": "completed"
    },
    "tags": []
   },
   "outputs": [
    {
     "data": {
      "text/html": [
       "<div>\n",
       "<style scoped>\n",
       "    .dataframe tbody tr th:only-of-type {\n",
       "        vertical-align: middle;\n",
       "    }\n",
       "\n",
       "    .dataframe tbody tr th {\n",
       "        vertical-align: top;\n",
       "    }\n",
       "\n",
       "    .dataframe thead th {\n",
       "        text-align: right;\n",
       "    }\n",
       "</style>\n",
       "<table border=\"1\" class=\"dataframe\">\n",
       "  <thead>\n",
       "    <tr style=\"text-align: right;\">\n",
       "      <th>Cholesterol</th>\n",
       "      <th>0</th>\n",
       "      <th>1</th>\n",
       "    </tr>\n",
       "    <tr>\n",
       "      <th>Sex</th>\n",
       "      <th></th>\n",
       "      <th></th>\n",
       "    </tr>\n",
       "  </thead>\n",
       "  <tbody>\n",
       "    <tr>\n",
       "      <th>0</th>\n",
       "      <td>49</td>\n",
       "      <td>47</td>\n",
       "    </tr>\n",
       "    <tr>\n",
       "      <th>1</th>\n",
       "      <td>54</td>\n",
       "      <td>50</td>\n",
       "    </tr>\n",
       "  </tbody>\n",
       "</table>\n",
       "</div>"
      ],
      "text/plain": [
       "Cholesterol   0   1\n",
       "Sex                \n",
       "0            49  47\n",
       "1            54  50"
      ]
     },
     "execution_count": 24,
     "metadata": {},
     "output_type": "execute_result"
    }
   ],
   "source": [
    "pd.crosstab(df[\"Sex\"], df[\"Cholesterol\"])"
   ]
  },
  {
   "cell_type": "code",
   "execution_count": 25,
   "id": "3d50ce22",
   "metadata": {
    "execution": {
     "iopub.execute_input": "2023-01-01T15:51:31.584090Z",
     "iopub.status.busy": "2023-01-01T15:51:31.583642Z",
     "iopub.status.idle": "2023-01-01T15:51:31.609137Z",
     "shell.execute_reply": "2023-01-01T15:51:31.607971Z"
    },
    "papermill": {
     "duration": 0.045456,
     "end_time": "2023-01-01T15:51:31.611637",
     "exception": false,
     "start_time": "2023-01-01T15:51:31.566181",
     "status": "completed"
    },
    "tags": []
   },
   "outputs": [
    {
     "data": {
      "text/html": [
       "<div>\n",
       "<style scoped>\n",
       "    .dataframe tbody tr th:only-of-type {\n",
       "        vertical-align: middle;\n",
       "    }\n",
       "\n",
       "    .dataframe tbody tr th {\n",
       "        vertical-align: top;\n",
       "    }\n",
       "\n",
       "    .dataframe thead th {\n",
       "        text-align: right;\n",
       "    }\n",
       "</style>\n",
       "<table border=\"1\" class=\"dataframe\">\n",
       "  <thead>\n",
       "    <tr style=\"text-align: right;\">\n",
       "      <th>BP</th>\n",
       "      <th>0</th>\n",
       "      <th>1</th>\n",
       "      <th>2</th>\n",
       "    </tr>\n",
       "    <tr>\n",
       "      <th>Sex</th>\n",
       "      <th></th>\n",
       "      <th></th>\n",
       "      <th></th>\n",
       "    </tr>\n",
       "  </thead>\n",
       "  <tbody>\n",
       "    <tr>\n",
       "      <th>0</th>\n",
       "      <td>38</td>\n",
       "      <td>28</td>\n",
       "      <td>30</td>\n",
       "    </tr>\n",
       "    <tr>\n",
       "      <th>1</th>\n",
       "      <td>39</td>\n",
       "      <td>36</td>\n",
       "      <td>29</td>\n",
       "    </tr>\n",
       "  </tbody>\n",
       "</table>\n",
       "</div>"
      ],
      "text/plain": [
       "BP    0   1   2\n",
       "Sex            \n",
       "0    38  28  30\n",
       "1    39  36  29"
      ]
     },
     "execution_count": 25,
     "metadata": {},
     "output_type": "execute_result"
    }
   ],
   "source": [
    "pd.crosstab(df[\"Sex\"], df[\"BP\"])"
   ]
  },
  {
   "cell_type": "code",
   "execution_count": 26,
   "id": "0115cd10",
   "metadata": {
    "execution": {
     "iopub.execute_input": "2023-01-01T15:51:31.648340Z",
     "iopub.status.busy": "2023-01-01T15:51:31.647896Z",
     "iopub.status.idle": "2023-01-01T15:51:31.669877Z",
     "shell.execute_reply": "2023-01-01T15:51:31.668902Z"
    },
    "papermill": {
     "duration": 0.043254,
     "end_time": "2023-01-01T15:51:31.672401",
     "exception": false,
     "start_time": "2023-01-01T15:51:31.629147",
     "status": "completed"
    },
    "tags": []
   },
   "outputs": [
    {
     "data": {
      "text/html": [
       "<div>\n",
       "<style scoped>\n",
       "    .dataframe tbody tr th:only-of-type {\n",
       "        vertical-align: middle;\n",
       "    }\n",
       "\n",
       "    .dataframe tbody tr th {\n",
       "        vertical-align: top;\n",
       "    }\n",
       "\n",
       "    .dataframe thead th {\n",
       "        text-align: right;\n",
       "    }\n",
       "</style>\n",
       "<table border=\"1\" class=\"dataframe\">\n",
       "  <thead>\n",
       "    <tr style=\"text-align: right;\">\n",
       "      <th>BP</th>\n",
       "      <th>0</th>\n",
       "      <th>1</th>\n",
       "      <th>2</th>\n",
       "    </tr>\n",
       "    <tr>\n",
       "      <th>Cholesterol</th>\n",
       "      <th></th>\n",
       "      <th></th>\n",
       "      <th></th>\n",
       "    </tr>\n",
       "  </thead>\n",
       "  <tbody>\n",
       "    <tr>\n",
       "      <th>0</th>\n",
       "      <td>35</td>\n",
       "      <td>31</td>\n",
       "      <td>37</td>\n",
       "    </tr>\n",
       "    <tr>\n",
       "      <th>1</th>\n",
       "      <td>42</td>\n",
       "      <td>33</td>\n",
       "      <td>22</td>\n",
       "    </tr>\n",
       "  </tbody>\n",
       "</table>\n",
       "</div>"
      ],
      "text/plain": [
       "BP            0   1   2\n",
       "Cholesterol            \n",
       "0            35  31  37\n",
       "1            42  33  22"
      ]
     },
     "execution_count": 26,
     "metadata": {},
     "output_type": "execute_result"
    }
   ],
   "source": [
    "pd.crosstab(df[\"Cholesterol\"], df[\"BP\"])"
   ]
  },
  {
   "cell_type": "markdown",
   "id": "2949a675",
   "metadata": {
    "papermill": {
     "duration": 0.017259,
     "end_time": "2023-01-01T15:51:31.706627",
     "exception": false,
     "start_time": "2023-01-01T15:51:31.689368",
     "status": "completed"
    },
    "tags": []
   },
   "source": [
    "# 5. Heatmap"
   ]
  },
  {
   "cell_type": "code",
   "execution_count": 27,
   "id": "dac1b43a",
   "metadata": {
    "execution": {
     "iopub.execute_input": "2023-01-01T15:51:31.744395Z",
     "iopub.status.busy": "2023-01-01T15:51:31.743632Z",
     "iopub.status.idle": "2023-01-01T15:51:32.246299Z",
     "shell.execute_reply": "2023-01-01T15:51:32.245118Z"
    },
    "papermill": {
     "duration": 0.524791,
     "end_time": "2023-01-01T15:51:32.248901",
     "exception": false,
     "start_time": "2023-01-01T15:51:31.724110",
     "status": "completed"
    },
    "tags": []
   },
   "outputs": [
    {
     "data": {
      "image/png": "[encoded data removed]",
      "text/plain": [
       "<Figure size 1080x720 with 2 Axes>"
      ]
     },
     "metadata": {},
     "output_type": "display_data"
    }
   ],
   "source": [
    "corr_matrix = df.corr()\n",
    "fig, ax = plt.subplots(figsize=(15, 10))\n",
    "ax = sns.heatmap(corr_matrix, \n",
    "                 annot=True,\n",
    "                 linewidths=0.5,\n",
    "                 fmt=\".2f\",\n",
    "                 cmap=\"YlGnBu\");"
   ]
  },
  {
   "cell_type": "markdown",
   "id": "5c27b70e",
   "metadata": {
    "papermill": {
     "duration": 0.019864,
     "end_time": "2023-01-01T15:51:32.286619",
     "exception": false,
     "start_time": "2023-01-01T15:51:32.266755",
     "status": "completed"
    },
    "tags": []
   },
   "source": [
    "# Train Test Spilit "
   ]
  },
  {
   "cell_type": "code",
   "execution_count": 28,
   "id": "a4924368",
   "metadata": {
    "execution": {
     "iopub.execute_input": "2023-01-01T15:51:32.323861Z",
     "iopub.status.busy": "2023-01-01T15:51:32.323460Z",
     "iopub.status.idle": "2023-01-01T15:51:32.331634Z",
     "shell.execute_reply": "2023-01-01T15:51:32.330424Z"
    },
    "papermill": {
     "duration": 0.029068,
     "end_time": "2023-01-01T15:51:32.333815",
     "exception": false,
     "start_time": "2023-01-01T15:51:32.304747",
     "status": "completed"
    },
    "tags": []
   },
   "outputs": [],
   "source": [
    "# Split data into train and test sets\n",
    "np.random.seed(42)\n",
    "\n",
    "# Split into train & test set\n",
    "X_train, X_test, y_train, y_test = train_test_split(df.drop(\"Drug\", axis = 1),\n",
    "                                                    df[\"Drug\"],\n",
    "                                                    test_size=0.1)"
   ]
  },
  {
   "cell_type": "code",
   "execution_count": 29,
   "id": "fa2f079b",
   "metadata": {
    "execution": {
     "iopub.execute_input": "2023-01-01T15:51:32.370728Z",
     "iopub.status.busy": "2023-01-01T15:51:32.370124Z",
     "iopub.status.idle": "2023-01-01T15:51:32.381961Z",
     "shell.execute_reply": "2023-01-01T15:51:32.380827Z"
    },
    "papermill": {
     "duration": 0.032994,
     "end_time": "2023-01-01T15:51:32.384433",
     "exception": false,
     "start_time": "2023-01-01T15:51:32.351439",
     "status": "completed"
    },
    "tags": []
   },
   "outputs": [
    {
     "data": {
      "text/plain": [
       "5"
      ]
     },
     "execution_count": 29,
     "metadata": {},
     "output_type": "execute_result"
    }
   ],
   "source": [
    "x = df.drop(\"Drug\", axis = 1)\n",
    "y = df[\"Drug\"]\n",
    "\n",
    "p_values = f_regression(x,y)[1]\n",
    "len(p_values)"
   ]
  },
  {
   "cell_type": "code",
   "execution_count": 30,
   "id": "fa25c864",
   "metadata": {
    "execution": {
     "iopub.execute_input": "2023-01-01T15:51:32.421367Z",
     "iopub.status.busy": "2023-01-01T15:51:32.420975Z",
     "iopub.status.idle": "2023-01-01T15:51:32.429128Z",
     "shell.execute_reply": "2023-01-01T15:51:32.428250Z"
    },
    "papermill": {
     "duration": 0.029448,
     "end_time": "2023-01-01T15:51:32.431460",
     "exception": false,
     "start_time": "2023-01-01T15:51:32.402012",
     "status": "completed"
    },
    "tags": []
   },
   "outputs": [
    {
     "data": {
      "text/plain": [
       "[{'Age': 0.556},\n",
       " {'Sex': 0.798},\n",
       " {'BP': 0.0},\n",
       " {'Cholesterol': 0.496},\n",
       " {'Na_to_K': 0.0}]"
      ]
     },
     "execution_count": 30,
     "metadata": {},
     "output_type": "execute_result"
    }
   ],
   "source": [
    "l = []\n",
    "\n",
    "col = list(df.columns)\n",
    "iter_df = 0\n",
    "\n",
    "for value in p_values:\n",
    "    if col[iter_df] == \"close\":\n",
    "        iter_df += 1\n",
    "        \n",
    "    l.append({col[iter_df] : value.round(3)})\n",
    "    iter_df += 1\n",
    "    \n",
    "l"
   ]
  },
  {
   "cell_type": "markdown",
   "id": "e9b0f5cb",
   "metadata": {
    "papermill": {
     "duration": 0.017701,
     "end_time": "2023-01-01T15:51:32.467433",
     "exception": false,
     "start_time": "2023-01-01T15:51:32.449732",
     "status": "completed"
    },
    "tags": []
   },
   "source": [
    "# ML Modelling "
   ]
  },
  {
   "cell_type": "code",
   "execution_count": 31,
   "id": "0a384b5f",
   "metadata": {
    "execution": {
     "iopub.execute_input": "2023-01-01T15:51:32.504954Z",
     "iopub.status.busy": "2023-01-01T15:51:32.503948Z",
     "iopub.status.idle": "2023-01-01T15:51:32.511682Z",
     "shell.execute_reply": "2023-01-01T15:51:32.510533Z"
    },
    "papermill": {
     "duration": 0.028879,
     "end_time": "2023-01-01T15:51:32.513968",
     "exception": false,
     "start_time": "2023-01-01T15:51:32.485089",
     "status": "completed"
    },
    "tags": []
   },
   "outputs": [],
   "source": [
    "# Put models in a dictionary\n",
    "models = {\"KNN\": KNeighborsClassifier(),\n",
    "          \"Random Forest\": RandomForestClassifier()}\n",
    "\n",
    "# Create a function to fit and score models\n",
    "def fit_and_score(models, X_train, X_test, y_train, y_test):\n",
    "    \"\"\"\n",
    "    Fits and evaluates given machine learning models.\n",
    "    models : a dict of differetn Scikit-Learn machine learning models\n",
    "    X_train : training data (no labels)\n",
    "    X_test : testing data (no labels)\n",
    "    y_train : training labels\n",
    "    y_test : test labels\n",
    "    \"\"\"\n",
    "    # Set random seed\n",
    "    np.random.seed(42)\n",
    "    # Make a dictionary to keep model scores\n",
    "    model_scores = {}\n",
    "    # Loop through models\n",
    "    for name, model in models.items():\n",
    "        # Fit the model to the data\n",
    "        model.fit(X_train, y_train)\n",
    "        # Evaluate the model and append its score to model_scores\n",
    "        model_scores[name] = model.score(X_test, y_test)\n",
    "    return model_scores"
   ]
  },
  {
   "cell_type": "code",
   "execution_count": 32,
   "id": "4ea9ca36",
   "metadata": {
    "execution": {
     "iopub.execute_input": "2023-01-01T15:51:32.551381Z",
     "iopub.status.busy": "2023-01-01T15:51:32.550668Z",
     "iopub.status.idle": "2023-01-01T15:51:32.714850Z",
     "shell.execute_reply": "2023-01-01T15:51:32.713730Z"
    },
    "papermill": {
     "duration": 0.185625,
     "end_time": "2023-01-01T15:51:32.717356",
     "exception": false,
     "start_time": "2023-01-01T15:51:32.531731",
     "status": "completed"
    },
    "tags": []
   },
   "outputs": [
    {
     "data": {
      "text/plain": [
       "{'KNN': 0.6, 'Random Forest': 1.0}"
      ]
     },
     "execution_count": 32,
     "metadata": {},
     "output_type": "execute_result"
    }
   ],
   "source": [
    "model_scores = fit_and_score(models=models,\n",
    "                             X_train=X_train,\n",
    "                             X_test=X_test,\n",
    "                             y_train=y_train,\n",
    "                             y_test=y_test)\n",
    "\n",
    "model_scores"
   ]
  },
  {
   "cell_type": "code",
   "execution_count": 33,
   "id": "131906ff",
   "metadata": {
    "execution": {
     "iopub.execute_input": "2023-01-01T15:51:32.755073Z",
     "iopub.status.busy": "2023-01-01T15:51:32.754620Z",
     "iopub.status.idle": "2023-01-01T15:51:32.977899Z",
     "shell.execute_reply": "2023-01-01T15:51:32.976780Z"
    },
    "papermill": {
     "duration": 0.244992,
     "end_time": "2023-01-01T15:51:32.980427",
     "exception": false,
     "start_time": "2023-01-01T15:51:32.735435",
     "status": "completed"
    },
    "tags": []
   },
   "outputs": [
    {
     "data": {
      "image/png": "[encoded data removed]",
      "text/plain": [
       "<Figure size 432x288 with 1 Axes>"
      ]
     },
     "metadata": {},
     "output_type": "display_data"
    }
   ],
   "source": [
    "model_compare = pd.DataFrame(model_scores, index=[\"accuracy\"])\n",
    "model_compare.T.plot.bar();"
   ]
  },
  {
   "cell_type": "markdown",
   "id": "87722b64",
   "metadata": {
    "papermill": {
     "duration": 0.018082,
     "end_time": "2023-01-01T15:51:33.017196",
     "exception": false,
     "start_time": "2023-01-01T15:51:32.999114",
     "status": "completed"
    },
    "tags": []
   },
   "source": [
    "# Hyperparameter Tuning - KNN"
   ]
  },
  {
   "cell_type": "code",
   "execution_count": 34,
   "id": "c55a9d86",
   "metadata": {
    "execution": {
     "iopub.execute_input": "2023-01-01T15:51:33.055717Z",
     "iopub.status.busy": "2023-01-01T15:51:33.055335Z",
     "iopub.status.idle": "2023-01-01T15:51:33.295080Z",
     "shell.execute_reply": "2023-01-01T15:51:33.294144Z"
    },
    "papermill": {
     "duration": 0.262321,
     "end_time": "2023-01-01T15:51:33.297728",
     "exception": false,
     "start_time": "2023-01-01T15:51:33.035407",
     "status": "completed"
    },
    "tags": []
   },
   "outputs": [],
   "source": [
    "# Let's tune KNN\n",
    "\n",
    "train_scores = []\n",
    "test_scores = []\n",
    "\n",
    "# Create a list of differnt values for n_neighbors\n",
    "neighbors = range(1, 21)\n",
    "\n",
    "# Setup KNN instance\n",
    "knn = KNeighborsClassifier()\n",
    "\n",
    "# Loop through different n_neighbors\n",
    "for i in neighbors:\n",
    "    knn.set_params(n_neighbors=i)\n",
    "    \n",
    "    # Fit the algorithm\n",
    "    knn.fit(X_train, y_train)\n",
    "    \n",
    "    # Update the training scores list\n",
    "    train_scores.append(knn.score(X_train, y_train))\n",
    "    \n",
    "    # Update the test scores list\n",
    "    test_scores.append(knn.score(X_test, y_test))"
   ]
  },
  {
   "cell_type": "code",
   "execution_count": 35,
   "id": "af427bbd",
   "metadata": {
    "execution": {
     "iopub.execute_input": "2023-01-01T15:51:33.336782Z",
     "iopub.status.busy": "2023-01-01T15:51:33.336016Z",
     "iopub.status.idle": "2023-01-01T15:51:33.732639Z",
     "shell.execute_reply": "2023-01-01T15:51:33.731284Z"
    },
    "papermill": {
     "duration": 0.418802,
     "end_time": "2023-01-01T15:51:33.735102",
     "exception": false,
     "start_time": "2023-01-01T15:51:33.316300",
     "status": "completed"
    },
    "tags": []
   },
   "outputs": [
    {
     "name": "stdout",
     "output_type": "stream",
     "text": [
      "Maximum KNN score on the test data: 75.00%\n"
     ]
    },
    {
     "data": {
      "image/png": "[encoded data removed]",
      "text/plain": [
       "<Figure size 432x288 with 1 Axes>"
      ]
     },
     "metadata": {},
     "output_type": "display_data"
    }
   ],
   "source": [
    "plt.plot(neighbors, train_scores, label=\"Train score\")\n",
    "plt.plot(neighbors, test_scores, label=\"Test score\")\n",
    "plt.xticks(np.arange(1, 21, 1))\n",
    "plt.xlabel(\"Number of neighbors\")\n",
    "plt.ylabel(\"Model score\")\n",
    "plt.legend()\n",
    "\n",
    "print(f\"Maximum KNN score on the test data: {max(test_scores)*100:.2f}%\")"
   ]
  },
  {
   "cell_type": "markdown",
   "id": "d1c271d2",
   "metadata": {
    "papermill": {
     "duration": 0.018603,
     "end_time": "2023-01-01T15:51:33.772761",
     "exception": false,
     "start_time": "2023-01-01T15:51:33.754158",
     "status": "completed"
    },
    "tags": []
   },
   "source": [
    "# Hyperparameter Tuning - Random Forest Regressor"
   ]
  },
  {
   "cell_type": "code",
   "execution_count": 36,
   "id": "bcab2d95",
   "metadata": {
    "execution": {
     "iopub.execute_input": "2023-01-01T15:51:33.812616Z",
     "iopub.status.busy": "2023-01-01T15:51:33.812230Z",
     "iopub.status.idle": "2023-01-01T15:51:33.818115Z",
     "shell.execute_reply": "2023-01-01T15:51:33.816896Z"
    },
    "papermill": {
     "duration": 0.028921,
     "end_time": "2023-01-01T15:51:33.820627",
     "exception": false,
     "start_time": "2023-01-01T15:51:33.791706",
     "status": "completed"
    },
    "tags": []
   },
   "outputs": [],
   "source": [
    "rf_grid = {\"n_estimators\": np.arange(10, 1000, 50),\n",
    "           \"max_depth\": [None, 3, 5, 10],\n",
    "           \"min_samples_split\": np.arange(2, 20, 2),\n",
    "           \"min_samples_leaf\": np.arange(1, 20, 2)}"
   ]
  },
  {
   "cell_type": "code",
   "execution_count": 37,
   "id": "e8497ff4",
   "metadata": {
    "execution": {
     "iopub.execute_input": "2023-01-01T15:51:33.860390Z",
     "iopub.status.busy": "2023-01-01T15:51:33.859989Z",
     "iopub.status.idle": "2023-01-01T15:52:47.432189Z",
     "shell.execute_reply": "2023-01-01T15:52:47.430998Z"
    },
    "papermill": {
     "duration": 73.615051,
     "end_time": "2023-01-01T15:52:47.454776",
     "exception": false,
     "start_time": "2023-01-01T15:51:33.839725",
     "status": "completed"
    },
    "tags": []
   },
   "outputs": [
    {
     "name": "stdout",
     "output_type": "stream",
     "text": [
      "Fitting 5 folds for each of 20 candidates, totalling 100 fits\n"
     ]
    },
    {
     "data": {
      "text/plain": [
       "RandomizedSearchCV(cv=5, estimator=RandomForestClassifier(), n_iter=20,\n",
       "                   param_distributions={'max_depth': [None, 3, 5, 10],\n",
       "                                        'min_samples_leaf': array([ 1,  3,  5,  7,  9, 11, 13, 15, 17, 19]),\n",
       "                                        'min_samples_split': array([ 2,  4,  6,  8, 10, 12, 14, 16, 18]),\n",
       "                                        'n_estimators': array([ 10,  60, 110, 160, 210, 260, 310, 360, 410, 460, 510, 560, 610,\n",
       "       660, 710, 760, 810, 860, 910, 960])},\n",
       "                   verbose=True)"
      ]
     },
     "execution_count": 37,
     "metadata": {},
     "output_type": "execute_result"
    }
   ],
   "source": [
    "# Setup random seed\n",
    "np.random.seed(42)\n",
    "\n",
    "# Setup random hyperparameter search for RandomForestClassifier\n",
    "rs_rf = RandomizedSearchCV(RandomForestClassifier(), \n",
    "                           param_distributions=rf_grid,\n",
    "                           cv=5,\n",
    "                           n_iter=20,\n",
    "                           verbose=True)\n",
    "\n",
    "# Fit random hyperparameter search model for RandomForestClassifier()\n",
    "rs_rf.fit(X_train, y_train)"
   ]
  },
  {
   "cell_type": "code",
   "execution_count": 38,
   "id": "807b8349",
   "metadata": {
    "execution": {
     "iopub.execute_input": "2023-01-01T15:52:47.497266Z",
     "iopub.status.busy": "2023-01-01T15:52:47.496271Z",
     "iopub.status.idle": "2023-01-01T15:52:47.503618Z",
     "shell.execute_reply": "2023-01-01T15:52:47.502736Z"
    },
    "papermill": {
     "duration": 0.031686,
     "end_time": "2023-01-01T15:52:47.505840",
     "exception": false,
     "start_time": "2023-01-01T15:52:47.474154",
     "status": "completed"
    },
    "tags": []
   },
   "outputs": [
    {
     "data": {
      "text/plain": [
       "{'n_estimators': 510,\n",
       " 'min_samples_split': 14,\n",
       " 'min_samples_leaf': 1,\n",
       " 'max_depth': None}"
      ]
     },
     "execution_count": 38,
     "metadata": {},
     "output_type": "execute_result"
    }
   ],
   "source": [
    "rs_rf.best_params_"
   ]
  },
  {
   "cell_type": "code",
   "execution_count": 39,
   "id": "5958289d",
   "metadata": {
    "execution": {
     "iopub.execute_input": "2023-01-01T15:52:47.548648Z",
     "iopub.status.busy": "2023-01-01T15:52:47.547585Z",
     "iopub.status.idle": "2023-01-01T15:52:47.608564Z",
     "shell.execute_reply": "2023-01-01T15:52:47.607255Z"
    },
    "papermill": {
     "duration": 0.084701,
     "end_time": "2023-01-01T15:52:47.611168",
     "exception": false,
     "start_time": "2023-01-01T15:52:47.526467",
     "status": "completed"
    },
    "tags": []
   },
   "outputs": [
    {
     "data": {
      "text/plain": [
       "1.0"
      ]
     },
     "execution_count": 39,
     "metadata": {},
     "output_type": "execute_result"
    }
   ],
   "source": [
    "rs_rf.score(X_test, y_test)"
   ]
  },
  {
   "cell_type": "markdown",
   "id": "b2642b8b",
   "metadata": {
    "papermill": {
     "duration": 0.020512,
     "end_time": "2023-01-01T15:52:47.651398",
     "exception": false,
     "start_time": "2023-01-01T15:52:47.630886",
     "status": "completed"
    },
    "tags": []
   },
   "source": [
    "# Final Result\n",
    "\n",
    "Random Forest Regressor outperforms the KNN algorithm. Thus Random Forest Regressor is used for further evaluating..."
   ]
  },
  {
   "cell_type": "code",
   "execution_count": 40,
   "id": "d047fea6",
   "metadata": {
    "execution": {
     "iopub.execute_input": "2023-01-01T15:52:47.692656Z",
     "iopub.status.busy": "2023-01-01T15:52:47.691847Z",
     "iopub.status.idle": "2023-01-01T15:52:47.749694Z",
     "shell.execute_reply": "2023-01-01T15:52:47.748572Z"
    },
    "papermill": {
     "duration": 0.081405,
     "end_time": "2023-01-01T15:52:47.752412",
     "exception": false,
     "start_time": "2023-01-01T15:52:47.671007",
     "status": "completed"
    },
    "tags": []
   },
   "outputs": [],
   "source": [
    "y_preds = rs_rf.predict(X_test)"
   ]
  },
  {
   "cell_type": "code",
   "execution_count": 41,
   "id": "277a317c",
   "metadata": {
    "execution": {
     "iopub.execute_input": "2023-01-01T15:52:47.794479Z",
     "iopub.status.busy": "2023-01-01T15:52:47.793889Z",
     "iopub.status.idle": "2023-01-01T15:52:48.060927Z",
     "shell.execute_reply": "2023-01-01T15:52:48.059748Z"
    },
    "papermill": {
     "duration": 0.290719,
     "end_time": "2023-01-01T15:52:48.063528",
     "exception": false,
     "start_time": "2023-01-01T15:52:47.772809",
     "status": "completed"
    },
    "tags": []
   },
   "outputs": [
    {
     "data": {
      "image/png": "[encoded data removed]",
      "text/plain": [
       "<Figure size 216x216 with 1 Axes>"
      ]
     },
     "metadata": {},
     "output_type": "display_data"
    }
   ],
   "source": [
    "sns.set(font_scale=1.5)\n",
    "\n",
    "def plot_conf_mat(y_test, y_preds):\n",
    "    \"\"\"\n",
    "    Plots a nice looking confusion matrix using Seaborn's heatmap()\n",
    "    \"\"\"\n",
    "    fig, ax = plt.subplots(figsize=(3, 3))\n",
    "    ax = sns.heatmap(confusion_matrix(y_test, y_preds),\n",
    "                     annot=True,\n",
    "                     cbar=False)\n",
    "    plt.xlabel(\"True label\")\n",
    "    plt.ylabel(\"Predicted label\")\n",
    "    \n",
    "    bottom, top = ax.get_ylim()\n",
    "    ax.set_ylim(bottom + 0.5, top - 0.5)\n",
    "    \n",
    "plot_conf_mat(y_test, y_preds)"
   ]
  },
  {
   "cell_type": "code",
   "execution_count": 42,
   "id": "3df674d5",
   "metadata": {
    "execution": {
     "iopub.execute_input": "2023-01-01T15:52:48.105388Z",
     "iopub.status.busy": "2023-01-01T15:52:48.104988Z",
     "iopub.status.idle": "2023-01-01T15:52:48.115947Z",
     "shell.execute_reply": "2023-01-01T15:52:48.114473Z"
    },
    "papermill": {
     "duration": 0.034591,
     "end_time": "2023-01-01T15:52:48.118141",
     "exception": false,
     "start_time": "2023-01-01T15:52:48.083550",
     "status": "completed"
    },
    "tags": []
   },
   "outputs": [
    {
     "name": "stdout",
     "output_type": "stream",
     "text": [
      "              precision    recall  f1-score   support\n",
      "\n",
      "           0       1.00      1.00      1.00         7\n",
      "           1       1.00      1.00      1.00         3\n",
      "           2       1.00      1.00      1.00         2\n",
      "           3       1.00      1.00      1.00         2\n",
      "           4       1.00      1.00      1.00         6\n",
      "\n",
      "    accuracy                           1.00        20\n",
      "   macro avg       1.00      1.00      1.00        20\n",
      "weighted avg       1.00      1.00      1.00        20\n",
      "\n"
     ]
    }
   ],
   "source": [
    "print(classification_report(y_test, y_preds))"
   ]
  },
  {
   "cell_type": "markdown",
   "id": "0fd4e258",
   "metadata": {
    "papermill": {
     "duration": 0.019607,
     "end_time": "2023-01-01T15:52:48.157812",
     "exception": false,
     "start_time": "2023-01-01T15:52:48.138205",
     "status": "completed"
    },
    "tags": []
   },
   "source": [
    "# Upvote if you like it ✨"
   ]
  }
 ],
 "metadata": {
  "kernelspec": {
   "display_name": "Python 3",
   "language": "python",
   "name": "python3"
  },
  "language_info": {
   "codemirror_mode": {
    "name": "ipython",
    "version": 3
   },
   "file_extension": ".py",
   "mimetype": "text/x-python",
   "name": "python",
   "nbconvert_exporter": "python",
   "pygments_lexer": "ipython3",
   "version": "3.7.12"
  },
  "papermill": {
   "default_parameters": {},
   "duration": 92.224561,
   "end_time": "2023-01-01T15:52:49.000213",
   "environment_variables": {},
   "exception": null,
   "input_path": "__notebook__.ipynb",
   "output_path": "__notebook__.ipynb",
   "parameters": {},
   "start_time": "2023-01-01T15:51:16.775652",
   "version": "2.3.4"
  }
 },
 "nbformat": 4,
 "nbformat_minor": 5
}
